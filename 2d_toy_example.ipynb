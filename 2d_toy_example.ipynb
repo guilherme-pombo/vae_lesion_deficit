{
 "cells": [
  {
   "cell_type": "code",
   "execution_count": 1,
   "metadata": {},
   "outputs": [
    {
     "data": {
      "text/plain": [
       "<matplotlib.image.AxesImage at 0x7f40140609e8>"
      ]
     },
     "execution_count": 1,
     "metadata": {},
     "output_type": "execute_result"
    },
    {
     "data": {
      "image/png": "[encoded data removed]",
      "text/plain": [
       "<Figure size 432x288 with 1 Axes>"
      ]
     },
     "metadata": {
      "needs_background": "light"
     },
     "output_type": "display_data"
    }
   ],
   "source": [
    "import scipy.io\n",
    "import numpy as np\n",
    "import matplotlib.pyplot as plt\n",
    "\n",
    "'''\n",
    "First load in the substrate and visualise it\n",
    "'''\n",
    "\n",
    "substrate = np.load('data/toy_examples/question_mark_substrate.npy')\n",
    "\n",
    "plt.imshow(substrate)"
   ]
  },
  {
   "cell_type": "code",
   "execution_count": 2,
   "metadata": {},
   "outputs": [
    {
     "data": {
      "image/png": "[encoded data removed]",
      "text/plain": [
       "<Figure size 1800x1800 with 20 Axes>"
      ]
     },
     "metadata": {
      "needs_background": "light"
     },
     "output_type": "display_data"
    }
   ],
   "source": [
    "from mpl_toolkits.axes_grid1 import ImageGrid\n",
    "\n",
    "'''\n",
    "Load in 1000 32x32 lesions, that are basically just ellipsoids\n",
    "'''\n",
    "\n",
    "lesions = np.load('data/toy_examples/1000_lesions.npy')\n",
    "\n",
    "# Let's visualise a few\n",
    "fig = plt.figure(figsize=(25., 25.))\n",
    "grid = ImageGrid(fig, 111, \n",
    "                 nrows_ncols=(2, 5),\n",
    "                 axes_pad=0.05,\n",
    "                 share_all=True\n",
    "                 )\n",
    "\n",
    "for i in range(10):\n",
    "    grid[i].imshow(lesions[i])"
   ]
  },
  {
   "cell_type": "code",
   "execution_count": 3,
   "metadata": {},
   "outputs": [
    {
     "data": {
      "text/plain": [
       "(array([606.,   0.,   0.,   0.,   0.,   0.,   0.,   0.,   0., 394.]),\n",
       " array([0. , 0.1, 0.2, 0.3, 0.4, 0.5, 0.6, 0.7, 0.8, 0.9, 1. ]),\n",
       " <BarContainer object of 10 artists>)"
      ]
     },
     "execution_count": 3,
     "metadata": {},
     "output_type": "execute_result"
    },
    {
     "data": {
      "image/png": "[encoded data removed]",
      "text/plain": [
       "<Figure size 432x288 with 1 Axes>"
      ]
     },
     "metadata": {
      "needs_background": "light"
     },
     "output_type": "display_data"
    }
   ],
   "source": [
    "# LET'S SIMULATE SOME BINARY SCORES\n",
    "\n",
    "# Threshold after which there is deficit\n",
    "BINARY_THRESHOLD = 0.05\n",
    "\n",
    "deficit_scores = [0 for i in range(len(lesions))]\n",
    "positive_indices = []\n",
    "for i in range(len(lesions)):\n",
    "    overlap = lesions[i] * substrate\n",
    "    counts = np.count_nonzero(overlap)\n",
    "    voxels_gt = np.sum(substrate)\n",
    "    ratio_lesion = counts / voxels_gt\n",
    "\n",
    "    if ratio_lesion > BINARY_THRESHOLD:\n",
    "        deficit_scores[i] = 1 \n",
    "    else:\n",
    "        deficit_scores[i] = 0\n",
    "                \n",
    "deficit_scores = np.array(deficit_scores)\n",
    "plt.hist(deficit_scores)"
   ]
  },
  {
   "cell_type": "code",
   "execution_count": 4,
   "metadata": {},
   "outputs": [
    {
     "data": {
      "text/plain": [
       "((900, 1, 32, 32), (50, 1, 32, 32), (50, 1, 32, 32))"
      ]
     },
     "execution_count": 4,
     "metadata": {},
     "output_type": "execute_result"
    }
   ],
   "source": [
    "from sklearn.model_selection import train_test_split\n",
    "\n",
    "# WE NEED TO ADD ONE EXTRA CHANNEL AS DL MODELS EXPECT A COLOUR CHANNEL\n",
    "lesions = np.expand_dims(lesions, axis=1)\n",
    "\n",
    "# FIRST SPLIT INTO 90/10\n",
    "train_data, vc_data, train_labels, vc_labels = train_test_split(lesions,\n",
    "                                                                deficit_scores,\n",
    "                                                                test_size=0.1)\n",
    "\n",
    "# THEN SPLIT THE REMAINING 10% INTO VALIDATION AND CALIBRATION - 50/50\n",
    "val_data, cal_data, val_labels, cal_labels = train_test_split(vc_data,\n",
    "                                                              vc_labels,\n",
    "                                                              test_size=0.5)\n",
    "\n",
    "train_data.shape, val_data.shape, cal_data.shape"
   ]
  },
  {
   "cell_type": "code",
   "execution_count": 5,
   "metadata": {},
   "outputs": [
    {
     "name": "stderr",
     "output_type": "stream",
     "text": [
      "/home/gp/anaconda3/lib/python3.7/site-packages/pandas/compat/_optional.py:138: UserWarning: Pandas requires version '2.7.0' or newer of 'numexpr' (version '2.6.9' currently installed).\n",
      "  warnings.warn(msg, UserWarning)\n"
     ]
    }
   ],
   "source": [
    "from torch.utils.data import Dataset, DataLoader\n",
    "import torch\n",
    "\n",
    "class DeficitDataset(Dataset):\n",
    "\n",
    "    def __init__(self, data, labels):\n",
    "        self.data = data\n",
    "        self.labels = labels\n",
    "\n",
    "    def __len__(self):\n",
    "        return len(self.data)\n",
    "\n",
    "    def __getitem__(self, index):\n",
    "        img = self.data[index]\n",
    "        return img, np.expand_dims(self.labels[index], axis=0)\n",
    "    \n",
    "\n",
    "batch_size = 256\n",
    "\n",
    "# CREATE DATA LOADERS\n",
    "# TRAINING\n",
    "dataset = DeficitDataset(data=train_data, labels=train_labels)\n",
    "train_loader = DataLoader(dataset, batch_size=batch_size, drop_last=False,\n",
    "                                            shuffle=True, num_workers=0, pin_memory=True)\n",
    "\n",
    "# VALIDATION\n",
    "val_dataset = DeficitDataset(data=val_data, labels=val_labels)\n",
    "val_loader = DataLoader(val_dataset, batch_size=batch_size, drop_last=False,\n",
    "                                            shuffle=True, num_workers=0, pin_memory=True)\n",
    "\n",
    "# CALIBRATION\n",
    "cal_dataset = DeficitDataset(data=cal_data, labels=cal_labels)\n",
    "cal_loader = DataLoader(cal_dataset, batch_size=batch_size, drop_last=False,\n",
    "                                            shuffle=True, num_workers=0, pin_memory=True)\n",
    "\n",
    "\n",
    "device = torch.device(\"cuda:0\")"
   ]
  },
  {
   "cell_type": "code",
   "execution_count": 6,
   "metadata": {},
   "outputs": [],
   "source": [
    "'''\n",
    "Now I define the whole model here for learning purpose\n",
    "'''\n",
    "\n",
    "import math\n",
    "\n",
    "import torch\n",
    "import torch.nn as nn\n",
    "import torch.distributions as D\n",
    "import torch.nn.functional as F\n",
    "\n",
    "# Define two globals\n",
    "bce_fn = nn.BCELoss(reduction='none')\n",
    "Tensor = torch.cuda.FloatTensor\n",
    "\n",
    "\n",
    "def add_coords(x, just_coords=False):\n",
    "    '''\n",
    "    This just the Uber CoordConv method extended to 3D. Definitely use it on the input\n",
    "    Using it on other layers of the model can be helpful, but it slows down training\n",
    "    :param x:\n",
    "    :param just_coords:\n",
    "    :return:\n",
    "    '''\n",
    "    batch_size_shape, channel_in_shape, dim_y, dim_x = x.shape\n",
    "    xx_ones = torch.ones([1, 1, 1, dim_x], dtype=torch.int32)\n",
    "    yy_ones = torch.ones([1, 1, 1, dim_y], dtype=torch.int32)\n",
    "\n",
    "    xx_range = torch.arange(dim_y, dtype=torch.int32)\n",
    "    yy_range = torch.arange(dim_x, dtype=torch.int32)\n",
    "    xx_range = xx_range[None, None, :, None]\n",
    "    yy_range = yy_range[None, None, :, None]\n",
    "\n",
    "    xx_channel = torch.matmul(xx_range, xx_ones)\n",
    "    yy_channel = torch.matmul(yy_range, yy_ones)\n",
    "\n",
    "    # transpose y\n",
    "    yy_channel = yy_channel.permute(0, 1, 3, 2)\n",
    "\n",
    "    xx_channel = xx_channel.float() / (dim_y - 1)\n",
    "    yy_channel = yy_channel.float() / (dim_x - 1)\n",
    "\n",
    "    xx_channel = xx_channel * 2 - 1\n",
    "    yy_channel = yy_channel * 2 - 1\n",
    "\n",
    "    xx_channel = xx_channel.repeat(batch_size_shape, 1, 1, 1)\n",
    "    yy_channel = yy_channel.repeat(batch_size_shape, 1, 1, 1)\n",
    "\n",
    "    xx_channel = xx_channel.cuda()\n",
    "    yy_channel = yy_channel.cuda()    \n",
    "    if just_coords:\n",
    "        out = torch.cat([xx_channel, yy_channel], dim=1)\n",
    "    else:\n",
    "        out = torch.cat([x, xx_channel, yy_channel], dim=1)\n",
    "        \n",
    "    return out\n",
    "\n",
    "\n",
    "class SBlock(nn.Module):\n",
    "\n",
    "    def __init__(self, in_planes, planes, downsample=False, ks=3, stride=1, upsample=False, add_coords=False):\n",
    "        '''\n",
    "        This is the Convolutional block that constitutes the meat of the Encoder and Decoder\n",
    "        :param in_planes:\n",
    "        :param planes:\n",
    "        :param downsample:\n",
    "        :param ks:\n",
    "        :param stride:\n",
    "        :param upsample:\n",
    "        :param add_coords:\n",
    "        '''\n",
    "        super(SBlock, self).__init__()\n",
    "        self.downsample = downsample\n",
    "        self.upsample = upsample\n",
    "\n",
    "        if ks == 3:\n",
    "            pad = 1\n",
    "        elif ks == 5:\n",
    "            pad = 2\n",
    "        else:\n",
    "            pad = 3\n",
    "\n",
    "        if add_coords:\n",
    "            in_planes += 3\n",
    "        self.add_coords = add_coords\n",
    "\n",
    "        self.c1 = nn.Sequential(nn.Conv2d(in_planes, planes, kernel_size=ks, stride=stride,\n",
    "                                          padding=pad),\n",
    "                                nn.BatchNorm2d(planes),\n",
    "                                nn.GELU())\n",
    "\n",
    "        self.upsample_layer = nn.Upsample(scale_factor=2, mode='nearest')\n",
    "\n",
    "    def forward(self, x):\n",
    "\n",
    "        if self.add_coords:\n",
    "            x = add_coords(x)\n",
    "\n",
    "        out = self.c1(x)\n",
    "\n",
    "        if self.downsample:\n",
    "            out = F.avg_pool2d(out, kernel_size=2, stride=2)\n",
    "\n",
    "        if self.upsample:\n",
    "            out = self.upsample_layer(out)\n",
    "\n",
    "        return out\n",
    "\n",
    "\n",
    "class VAE(nn.Module):\n",
    "\n",
    "    def __init__(self, input_size, sd=16, z_dim=20, out_chans=1, in_chans=1):\n",
    "        '''\n",
    "        This is the VAE model that does the lesion deficit mapping inference. It does two tasks with a single latent.\n",
    "        First it produces the lesion-deficit map. Second it produces a reconstruction of the lesions.\n",
    "        Both of these are necessary because we are modelling the joint distribution P(X,Y)\n",
    "        There are many architectural improvements that will probably help get better accuracy, but this is a simple\n",
    "        architecture that works even with little data. The more data you have, the more you might want to replace\n",
    "        the Encoder and Decoder with something more complicated. Or even use a VDVAE\n",
    "        Adding coordinates helps as well, but by default the models doesn't add them\n",
    "        :param input_size:\n",
    "        :param sd:\n",
    "        :param z_dim:\n",
    "        :param out_chans:\n",
    "        :param in_chans:\n",
    "        '''\n",
    "        super(VAE, self).__init__()\n",
    "\n",
    "        self.sd = sd\n",
    "        self.z_dim = z_dim\n",
    "        self.half_z = z_dim // 2\n",
    "\n",
    "        # Each layer reduces by a factor of 2, how many layers we need to get to latent space 2**3\n",
    "        self.num_layers = int(math.log2(input_size)) - 1\n",
    "\n",
    "        '''\n",
    "        Encoder -- You'll probably need to tweak this to get the best results, GPU memory usage, etc.\n",
    "        '''\n",
    "        self.encoder_layers = nn.ModuleList()\n",
    "        enc_sd = self.sd\n",
    "        for l in range(self.num_layers):\n",
    "            self.encoder_layers.append(SBlock(in_chans, enc_sd, downsample=True))\n",
    "            in_chans = enc_sd\n",
    "            if l < self.num_layers - 1:\n",
    "                enc_sd *= 2\n",
    "\n",
    "        # These are the dimensions of a fully connected latent at the end of the encoder\n",
    "        self.spatial_dims = input_size // (2 ** self.num_layers)\n",
    "        self.dense_dims = self.spatial_dims ** 2 * (enc_sd)\n",
    "\n",
    "        '''\n",
    "        Parameters of the latent space\n",
    "        '''\n",
    "        self.mu = nn.Linear(self.dense_dims, z_dim)\n",
    "        self.logvar = nn.Linear(self.dense_dims, z_dim)\n",
    "\n",
    "        '''\n",
    "        Decoders for the inference maps and lesion reconstructions\n",
    "        '''\n",
    "        self.decoder_inference = nn.ModuleList()\n",
    "        self.decoder_reconstruction = nn.ModuleList()\n",
    "        self.decoder_inference.append(nn.Sequential(nn.Linear(self.half_z, self.dense_dims),\n",
    "                                          nn.GELU()))\n",
    "        self.decoder_reconstruction.append(nn.Sequential(nn.Linear(self.half_z, self.dense_dims),\n",
    "                                          nn.GELU()))\n",
    "        dec_sd = enc_sd\n",
    "        for l in range(self.num_layers):\n",
    "            self.decoder_inference.append(SBlock(dec_sd, dec_sd // 2, upsample=True))\n",
    "            self.decoder_reconstruction.append(SBlock(dec_sd, dec_sd // 2, upsample=True))\n",
    "            dec_sd = dec_sd // 2\n",
    "\n",
    "        # Finish both decoders\n",
    "        self.decoder_inference.append(\n",
    "            nn.Sequential(nn.Conv2d(dec_sd, int(dec_sd / 2), kernel_size=3, stride=1, padding=1),\n",
    "                          nn.GELU(),\n",
    "                          nn.Conv2d(int(dec_sd / 2), out_chans, kernel_size=1, stride=1, padding=0)\n",
    "                        )\n",
    "        )\n",
    "        self.decoder_reconstruction.append(\n",
    "            nn.Sequential(nn.Conv2d(dec_sd, int(dec_sd / 2), kernel_size=3, stride=1, padding=1),\n",
    "                          nn.GELU(),\n",
    "                          nn.Conv2d(int(dec_sd / 2), 1, kernel_size=1, stride=1, padding=0)\n",
    "                          )\n",
    "        )\n",
    "\n",
    "    def sampling(self, mu, log_var):\n",
    "        '''\n",
    "        Sample your latent from z ~ N(mean, scale)\n",
    "        :param mu:\n",
    "        :param log_var:\n",
    "        :return:\n",
    "        '''\n",
    "        std = torch.exp(0.5 * log_var)\n",
    "        eps = torch.randn_like(std)\n",
    "        return eps.mul(std).add_(mu)\n",
    "\n",
    "    def encoder(self, x):\n",
    "        for enc_layer in self.encoder_layers:\n",
    "            x = enc_layer(x)\n",
    "        x = x.view(-1, self.dense_dims)\n",
    "        return self.mu(x), self.logvar(x)\n",
    "\n",
    "    def decoder(self, x):\n",
    "        x = self.decoder_inference[0](x)\n",
    "        x = x.view(x.size(0), -1, self.spatial_dims, self.spatial_dims)\n",
    "        for dec_layer in self.decoder_inference[1:]:\n",
    "            x = dec_layer(x)\n",
    "        return x\n",
    "\n",
    "    def rdecoder(self, x):\n",
    "        x = self.decoder_reconstruction[0](x)\n",
    "        x = x.view(x.size(0), -1, self.spatial_dims, self.spatial_dims)\n",
    "        for dec_layer in self.decoder_reconstruction[1:]:\n",
    "            x = dec_layer(x)\n",
    "        return x\n",
    "\n",
    "    def forward(self, x, y):\n",
    "        mu, log_var = self.encoder(x)\n",
    "        z = self.sampling(mu, log_var)\n",
    "\n",
    "        mask_z = z[:, :self.half_z]\n",
    "        recon_z = z[:, self.half_z:]\n",
    "\n",
    "        kl = torch.sum(0.5 * (-log_var + torch.exp(log_var) + mu ** 2 - 1), dim=1)\n",
    "\n",
    "        return self.decoder(mask_z), self.rdecoder(recon_z), kl\n",
    "\n",
    "\n",
    "class ModelWrapper(nn.Module):\n",
    "\n",
    "    def __init__(self, input_size, z_dim=128, start_dims=16, continuous=False):\n",
    "        '''\n",
    "        A model wrapper around the VAE\n",
    "        :param input_size:\n",
    "        :param z_dim:\n",
    "        :param start_dims:\n",
    "        :param continuous:\n",
    "        '''\n",
    "        super().__init__()\n",
    "        self.z_dim = z_dim\n",
    "        self.start_dims = start_dims\n",
    "\n",
    "        # 4 input channels - X, the coordinates, and Y\n",
    "        # 2 output channels - The mean and the variance of the inference maps\n",
    "        self.mask_model = VAE(input_size,\n",
    "                              sd=start_dims,\n",
    "                              z_dim=z_dim,\n",
    "                              out_chans=2,\n",
    "                              in_chans=4)\n",
    "\n",
    "        self.continuous = continuous\n",
    "        print(f'CONTINUOUS MODEL: {self.continuous}')\n",
    "\n",
    "    def forward(self, x, y, val=False, provided_mask=None,\n",
    "                provided_scale=None, t=0.5, calibrate=False):\n",
    "        '''\n",
    "        If doing validation you will want to use the generated inference map to gauge the accuracy of the\n",
    "        predictions\n",
    "        :param x:\n",
    "        :param y:\n",
    "        :param val:\n",
    "        :param provided_mask:\n",
    "        :param provided_scale:\n",
    "        :param t:\n",
    "        :param calibrate:\n",
    "        :return:\n",
    "        '''\n",
    "\n",
    "        b, c, h, w = x.shape\n",
    "\n",
    "        # Add coordinates to the lesion\n",
    "        coord_x = add_coords(x)\n",
    "        # Add the label as a volume\n",
    "        my = y.view(-1, 1, 1, 1).repeat(1, 1, h, w)\n",
    "        coord_x = torch.cat([coord_x, my], dim=1)\n",
    "\n",
    "        if val:\n",
    "            # If doing validation use the masks calculated from the training data\n",
    "            # Do a forward pass still so we can evaluate reconstruction quality and KL\n",
    "            masks, recons, kl_m = self.mask_model(coord_x, y)\n",
    "            preds_mean = provided_mask\n",
    "            preds_scale = provided_scale\n",
    "        else:\n",
    "            masks, recons, kl_m = self.mask_model(coord_x, y)\n",
    "            preds_mean = masks[:, 0].view(-1, 1, h, w)\n",
    "            preds_scale = masks[:, 1].view(-1, 1, h, w)\n",
    "\n",
    "        if calibrate:\n",
    "            # If calibrating predictions, we want to find a thresholding quantile that achieves the best accuracy!\n",
    "            flat_preds_a = preds_mean.view(x.size(0), -1)\n",
    "            qt = torch.quantile(flat_preds_a, t, dim=1).view(-1, 1, 1, 1)\n",
    "            preds_mean = (preds_mean > qt) * preds_mean\n",
    "\n",
    "        # The three outputs of our network -> Reconstructed lesion, Mean inference map and STD variance map\n",
    "        recons = torch.sigmoid(recons)\n",
    "        logits = torch.mean(x * preds_mean, dim=(-3, -2, -1)).view(-1, 1)\n",
    "        # Standard deviation is currently between 0 and 1, but it can be larger or smaller\n",
    "        scale = torch.mean(x * preds_scale, dim=(-3, -2, -1)).view(-1, 1).exp()\n",
    "\n",
    "        '''\n",
    "        Calculate log P(Y|X,M), i.e. the log-likelihood of our inference objective\n",
    "        '''\n",
    "        if self.continuous:\n",
    "            # mask_ll = - D.Normal(logits, scale + 1e-5).log_prob(y).mean()\n",
    "            mask_ll = torch.mean((logits - y) ** 2)\n",
    "        else:\n",
    "            # Don't use STD on binary case because Bernoulli has no variance -> Beta distributions work well\n",
    "            probabilities = torch.sigmoid(logits)\n",
    "            mask_ll = bce_fn(probabilities, y).mean()\n",
    "\n",
    "        '''\n",
    "        Calculate log P(X|M), i.e. the log likelihood of our lesions \n",
    "        '''\n",
    "        recon_ll = torch.sum(bce_fn(recons, x), dim=(-2, -1)).mean()\n",
    "\n",
    "        preds = torch.mean(preds_mean, dim=0).view(1, 1, h, w)\n",
    "        mask_scale = torch.mean(preds_scale, dim=0).view(1, 1, h, w)\n",
    "\n",
    "        # Calculate the accuracy of the predictions. If it is continuous, this is just MSE\n",
    "        if self.continuous:\n",
    "            acc = mask_ll\n",
    "        else:\n",
    "            quant_preds = (probabilities > 0.5).to(torch.float32)\n",
    "            acc = torch.mean(torch.eq(quant_preds, y).float())\n",
    "\n",
    "        '''\n",
    "        The final loss is log P(Y| X, M) + log P(X|M) + D_KL[Q(M|X,Y) || P(M)]\n",
    "        '''\n",
    "        loss = mask_ll + recon_ll + kl_m.mean()\n",
    "\n",
    "        ret_dict = dict(mean_mask=preds,\n",
    "                        mask_scale=mask_scale,\n",
    "                        mask_ll=mask_ll.mean(),\n",
    "                        kl=kl_m.mean(),\n",
    "                        loss=loss, acc=acc,\n",
    "                        recon_ll=recon_ll.mean()\n",
    "                        )\n",
    "\n",
    "        return ret_dict\n",
    "\n",
    "    def sample_masks(self, num_samples=400):\n",
    "        '''\n",
    "        Use this to sample the mean and STD masks from the latent space\n",
    "        :param x:\n",
    "        :param num_samples:\n",
    "        :return:\n",
    "        '''\n",
    "        z = torch.randn(num_samples, self.z_dim).type(Tensor)\n",
    "        preds = self.mask_model.decoder(z)\n",
    "        mean_mask = torch.mean(preds[:, 0], dim=(0, 1))\n",
    "        scale_mask = torch.mean(preds[:, 1], dim=(0, 1))\n",
    "        return mean_mask, scale_mask\n",
    "\n",
    "    "
   ]
  },
  {
   "cell_type": "code",
   "execution_count": 7,
   "metadata": {},
   "outputs": [
    {
     "name": "stdout",
     "output_type": "stream",
     "text": [
      "CONTINUOUS MODEL: False\n"
     ]
    },
    {
     "name": "stderr",
     "output_type": "stream",
     "text": [
      "/home/gp/anaconda3/lib/python3.7/site-packages/torch/cuda/__init__.py:120: UserWarning: \n",
      "    Found GPU%d %s which is of cuda capability %d.%d.\n",
      "    PyTorch no longer supports this GPU because it is too old.\n",
      "    The minimum cuda capability supported by this library is %d.%d.\n",
      "    \n",
      "  warnings.warn(old_gpu_warn.format(d, name, major, minor, min_arch // 10, min_arch % 10))\n"
     ]
    },
    {
     "name": "stdout",
     "output_type": "stream",
     "text": [
      "NUM PARAMS: 327007\n",
      "NUM EPOCHS: 250\n"
     ]
    }
   ],
   "source": [
    "import torch.optim as optim\n",
    "\n",
    "INPUT_SIZE = 32\n",
    "CONTINUOUS = False\n",
    "Z_DIM = 20\n",
    "EPOCHS = 250\n",
    "INITIAL_CONV_KERNELS = 16\n",
    "L2_REG = 1e-4\n",
    "LR = 5e-3\n",
    "\n",
    "def count_parameters(model):\n",
    "    return sum(p.numel() for p in model.parameters() if p.requires_grad)\n",
    "\n",
    "Tensor = torch.cuda.FloatTensor\n",
    "\n",
    "model = ModelWrapper(INPUT_SIZE,\n",
    "                     z_dim=Z_DIM,\n",
    "                     start_dims=INITIAL_CONV_KERNELS,\n",
    "                     continuous=CONTINUOUS).to(device)\n",
    "\n",
    "# Other optimisers work as well, Adamax is quite stable though\n",
    "optimizer = optim.Adamax(model.parameters(),\n",
    "                         weight_decay=L2_REG,\n",
    "                         lr=LR)\n",
    "\n",
    "print('NUM PARAMS: {}'.format(count_parameters(model)))\n",
    "print(f'NUM EPOCHS: {EPOCHS}')"
   ]
  },
  {
   "cell_type": "code",
   "execution_count": 8,
   "metadata": {},
   "outputs": [
    {
     "name": "stdout",
     "output_type": "stream",
     "text": [
      "Epoch: 0, mask likelihood: 0.6932806372642517, KL: 3.806, recon likelihood: 634.0936889648438\n",
      "Best: 0.6932806372642517, 638.5926513671875, 0.52, epoch: 0\n"
     ]
    },
    {
     "data": {
      "image/png": "[encoded data removed]",
      "text/plain": [
       "<Figure size 1080x1080 with 4 Axes>"
      ]
     },
     "metadata": {
      "needs_background": "light"
     },
     "output_type": "display_data"
    },
    {
     "name": "stdout",
     "output_type": "stream",
     "text": [
      "Epoch: 1, mask likelihood: 0.69173264503479, KL: 2.714, recon likelihood: 454.5426330566406\n",
      "Epoch: 2, mask likelihood: 0.6894711852073669, KL: 2.851, recon likelihood: 310.26251220703125\n",
      "Epoch: 3, mask likelihood: 0.6869662404060364, KL: 2.81, recon likelihood: 228.17257690429688\n",
      "Epoch: 4, mask likelihood: 0.6836047172546387, KL: 3.62, recon likelihood: 187.2763671875\n",
      "Epoch: 5, mask likelihood: 0.6793304085731506, KL: 4.723, recon likelihood: 166.7582244873047\n",
      "Epoch: 6, mask likelihood: 0.6750407218933105, KL: 6.879, recon likelihood: 148.29470825195312\n",
      "Epoch: 7, mask likelihood: 0.6700634360313416, KL: 8.743, recon likelihood: 130.64584350585938\n",
      "Epoch: 8, mask likelihood: 0.6640151143074036, KL: 9.116, recon likelihood: 122.8203353881836\n",
      "Epoch: 9, mask likelihood: 0.6575451493263245, KL: 8.799, recon likelihood: 117.42254638671875\n",
      "Epoch: 10, mask likelihood: 0.6508997678756714, KL: 9.055, recon likelihood: 113.16535186767578\n",
      "Best: 0.6508997678756714, 122.87147521972656, 0.86, epoch: 10\n",
      "Epoch: 11, mask likelihood: 0.6436283588409424, KL: 9.174, recon likelihood: 109.8323974609375\n",
      "Epoch: 12, mask likelihood: 0.635467529296875, KL: 9.505, recon likelihood: 109.47061920166016\n",
      "Epoch: 13, mask likelihood: 0.6266469359397888, KL: 9.646, recon likelihood: 106.2437973022461\n",
      "Epoch: 14, mask likelihood: 0.6179649233818054, KL: 9.024, recon likelihood: 105.58489990234375\n",
      "Epoch: 15, mask likelihood: 0.6079270243644714, KL: 9.17, recon likelihood: 103.17597198486328\n",
      "Epoch: 16, mask likelihood: 0.5981485843658447, KL: 9.742, recon likelihood: 98.60077667236328\n",
      "Epoch: 17, mask likelihood: 0.5883487462997437, KL: 10.272, recon likelihood: 94.5646743774414\n",
      "Epoch: 18, mask likelihood: 0.5763887166976929, KL: 10.256, recon likelihood: 90.97799682617188\n",
      "Epoch: 19, mask likelihood: 0.5642041563987732, KL: 10.552, recon likelihood: 89.27115631103516\n",
      "Epoch: 20, mask likelihood: 0.5529638528823853, KL: 11.284, recon likelihood: 84.67171478271484\n",
      "Best: 0.5529638528823853, 96.50845336914062, 0.88, epoch: 20\n"
     ]
    },
    {
     "data": {
      "image/png": "[encoded data removed]",
      "text/plain": [
       "<Figure size 1080x1080 with 4 Axes>"
      ]
     },
     "metadata": {
      "needs_background": "light"
     },
     "output_type": "display_data"
    },
    {
     "name": "stdout",
     "output_type": "stream",
     "text": [
      "Epoch: 21, mask likelihood: 0.5411055684089661, KL: 11.543, recon likelihood: 91.22221374511719\n",
      "Epoch: 22, mask likelihood: 0.5278298258781433, KL: 11.853, recon likelihood: 81.28831481933594\n",
      "Epoch: 23, mask likelihood: 0.5152711272239685, KL: 11.674, recon likelihood: 77.95948791503906\n",
      "Epoch: 24, mask likelihood: 0.5046749711036682, KL: 11.559, recon likelihood: 80.47466278076172\n",
      "Epoch: 25, mask likelihood: 0.48977264761924744, KL: 11.862, recon likelihood: 79.70172882080078\n",
      "Epoch: 26, mask likelihood: 0.47715774178504944, KL: 12.406, recon likelihood: 72.3209228515625\n",
      "Epoch: 27, mask likelihood: 0.4651707410812378, KL: 12.664, recon likelihood: 70.03984069824219\n",
      "Epoch: 28, mask likelihood: 0.45272842049598694, KL: 12.498, recon likelihood: 70.72050476074219\n",
      "Epoch: 29, mask likelihood: 0.43796202540397644, KL: 12.124, recon likelihood: 75.1675796508789\n",
      "Epoch: 30, mask likelihood: 0.4290296733379364, KL: 12.377, recon likelihood: 67.14250183105469\n",
      "Best: 0.4290296733379364, 79.94882202148438, 0.94, epoch: 30\n",
      "Epoch: 31, mask likelihood: 0.42193976044654846, KL: 12.409, recon likelihood: 74.73126220703125\n",
      "Epoch: 32, mask likelihood: 0.40590816736221313, KL: 12.902, recon likelihood: 68.76583862304688\n",
      "Epoch: 33, mask likelihood: 0.39499640464782715, KL: 12.609, recon likelihood: 63.45274353027344\n",
      "Epoch: 34, mask likelihood: 0.3871786892414093, KL: 12.704, recon likelihood: 62.85749053955078\n",
      "Epoch: 35, mask likelihood: 0.3795047402381897, KL: 12.645, recon likelihood: 69.38237762451172\n",
      "Epoch: 36, mask likelihood: 0.37068870663642883, KL: 12.9, recon likelihood: 63.15058898925781\n",
      "Epoch: 37, mask likelihood: 0.3572252094745636, KL: 12.895, recon likelihood: 68.76042175292969\n",
      "Epoch: 38, mask likelihood: 0.34748002886772156, KL: 12.588, recon likelihood: 66.3140640258789\n",
      "Epoch: 39, mask likelihood: 0.3438988924026489, KL: 12.693, recon likelihood: 61.390506744384766\n",
      "Epoch: 40, mask likelihood: 0.3354370892047882, KL: 12.685, recon likelihood: 67.66295623779297\n",
      "Best: 0.3354370892047882, 80.68323516845703, 0.94, epoch: 40\n"
     ]
    },
    {
     "data": {
      "image/png": "[encoded data removed]",
      "text/plain": [
       "<Figure size 1080x1080 with 4 Axes>"
      ]
     },
     "metadata": {
      "needs_background": "light"
     },
     "output_type": "display_data"
    },
    {
     "name": "stdout",
     "output_type": "stream",
     "text": [
      "Epoch: 41, mask likelihood: 0.3207809031009674, KL: 12.614, recon likelihood: 66.12651062011719\n",
      "Epoch: 42, mask likelihood: 0.31617915630340576, KL: 12.93, recon likelihood: 64.29130554199219\n",
      "Epoch: 43, mask likelihood: 0.31074029207229614, KL: 13.093, recon likelihood: 57.88755416870117\n",
      "Epoch: 44, mask likelihood: 0.2937018871307373, KL: 13.063, recon likelihood: 58.25590515136719\n",
      "Epoch: 45, mask likelihood: 0.28695881366729736, KL: 12.859, recon likelihood: 63.26209259033203\n",
      "Epoch: 46, mask likelihood: 0.27817800641059875, KL: 12.821, recon likelihood: 64.63209533691406\n",
      "Epoch: 47, mask likelihood: 0.2673127055168152, KL: 12.914, recon likelihood: 54.44392395019531\n",
      "Epoch: 48, mask likelihood: 0.26608937978744507, KL: 12.954, recon likelihood: 55.50548553466797\n",
      "Epoch: 49, mask likelihood: 0.2734562158584595, KL: 13.078, recon likelihood: 57.9069709777832\n",
      "Epoch: 50, mask likelihood: 0.24962909519672394, KL: 13.133, recon likelihood: 58.545169830322266\n",
      "Best: 0.24962909519672394, 71.92827606201172, 0.92, epoch: 50\n",
      "Epoch: 51, mask likelihood: 0.2395767867565155, KL: 12.902, recon likelihood: 55.23945236206055\n",
      "Epoch: 52, mask likelihood: 0.24106454849243164, KL: 12.757, recon likelihood: 62.455604553222656\n",
      "Epoch: 53, mask likelihood: 0.23144559562206268, KL: 12.756, recon likelihood: 58.061702728271484\n",
      "Epoch: 54, mask likelihood: 0.22339275479316711, KL: 12.969, recon likelihood: 57.03746795654297\n",
      "Epoch: 55, mask likelihood: 0.22689703106880188, KL: 13.155, recon likelihood: 62.043235778808594\n",
      "Epoch: 56, mask likelihood: 0.2268400937318802, KL: 13.353, recon likelihood: 51.83001708984375\n",
      "Epoch: 57, mask likelihood: 0.217641219496727, KL: 13.547, recon likelihood: 53.49534225463867\n",
      "Epoch: 58, mask likelihood: 0.21766461431980133, KL: 13.248, recon likelihood: 60.331443786621094\n",
      "Epoch: 59, mask likelihood: 0.20663730800151825, KL: 13.016, recon likelihood: 51.99845504760742\n",
      "Epoch: 60, mask likelihood: 0.20988650619983673, KL: 12.82, recon likelihood: 64.6196060180664\n",
      "Best: 0.20663730800151825, 65.2215347290039, 0.94, epoch: 59\n"
     ]
    },
    {
     "data": {
      "image/png": "[encoded data removed]",
      "text/plain": [
       "<Figure size 1080x1080 with 4 Axes>"
      ]
     },
     "metadata": {
      "needs_background": "light"
     },
     "output_type": "display_data"
    },
    {
     "name": "stdout",
     "output_type": "stream",
     "text": [
      "Epoch: 61, mask likelihood: 0.202435702085495, KL: 13.08, recon likelihood: 52.74375915527344\n",
      "Epoch: 62, mask likelihood: 0.19017481803894043, KL: 13.174, recon likelihood: 55.771873474121094\n",
      "Epoch: 63, mask likelihood: 0.19914783537387848, KL: 13.115, recon likelihood: 52.408729553222656\n",
      "Epoch: 64, mask likelihood: 0.19358931481838226, KL: 13.081, recon likelihood: 51.82990264892578\n",
      "Epoch: 65, mask likelihood: 0.19425535202026367, KL: 13.122, recon likelihood: 56.05500030517578\n",
      "Epoch: 66, mask likelihood: 0.19748438894748688, KL: 13.173, recon likelihood: 52.07257843017578\n",
      "Epoch: 67, mask likelihood: 0.1795492172241211, KL: 13.006, recon likelihood: 50.345027923583984\n",
      "Epoch: 68, mask likelihood: 0.19062606990337372, KL: 13.13, recon likelihood: 56.30731201171875\n",
      "Epoch: 69, mask likelihood: 0.1848926842212677, KL: 12.995, recon likelihood: 51.97067642211914\n",
      "Epoch: 70, mask likelihood: 0.17129524052143097, KL: 13.002, recon likelihood: 50.23957824707031\n",
      "Best: 0.17129524052143097, 63.412994384765625, 0.94, epoch: 70\n",
      "Epoch: 71, mask likelihood: 0.1852887123823166, KL: 13.444, recon likelihood: 54.741268157958984\n",
      "Epoch: 72, mask likelihood: 0.18107321858406067, KL: 13.295, recon likelihood: 52.82236099243164\n",
      "Epoch: 73, mask likelihood: 0.1646472066640854, KL: 13.053, recon likelihood: 51.5478401184082\n",
      "Epoch: 74, mask likelihood: 0.1662210375070572, KL: 13.287, recon likelihood: 48.911048889160156\n",
      "Epoch: 75, mask likelihood: 0.17374072968959808, KL: 13.186, recon likelihood: 56.28719711303711\n",
      "Epoch: 76, mask likelihood: 0.1752355843782425, KL: 13.211, recon likelihood: 51.79393768310547\n",
      "Epoch: 77, mask likelihood: 0.1642257124185562, KL: 13.166, recon likelihood: 50.872528076171875\n",
      "Epoch: 78, mask likelihood: 0.17078906297683716, KL: 13.154, recon likelihood: 52.47747802734375\n",
      "Epoch: 79, mask likelihood: 0.16700316965579987, KL: 13.296, recon likelihood: 50.68832778930664\n",
      "Epoch: 80, mask likelihood: 0.1593349277973175, KL: 13.402, recon likelihood: 57.83066177368164\n",
      "Best: 0.1593349277973175, 71.39193725585938, 0.94, epoch: 80\n"
     ]
    },
    {
     "data": {
      "image/png": "[encoded data removed]",
      "text/plain": [
       "<Figure size 1080x1080 with 4 Axes>"
      ]
     },
     "metadata": {
      "needs_background": "light"
     },
     "output_type": "display_data"
    },
    {
     "name": "stdout",
     "output_type": "stream",
     "text": [
      "Epoch: 81, mask likelihood: 0.16803723573684692, KL: 13.295, recon likelihood: 49.61301803588867\n",
      "Epoch: 82, mask likelihood: 0.15492261946201324, KL: 13.031, recon likelihood: 52.17629623413086\n",
      "Epoch: 83, mask likelihood: 0.1576055884361267, KL: 12.938, recon likelihood: 49.106170654296875\n",
      "Epoch: 84, mask likelihood: 0.15837571024894714, KL: 13.004, recon likelihood: 52.06745910644531\n",
      "Epoch: 85, mask likelihood: 0.15394112467765808, KL: 13.362, recon likelihood: 48.59260940551758\n",
      "Epoch: 86, mask likelihood: 0.1552433967590332, KL: 13.45, recon likelihood: 52.61143112182617\n",
      "Epoch: 87, mask likelihood: 0.15846891701221466, KL: 13.468, recon likelihood: 48.765296936035156\n",
      "Epoch: 88, mask likelihood: 0.16042356193065643, KL: 13.306, recon likelihood: 47.81035232543945\n",
      "Epoch: 89, mask likelihood: 0.16360656917095184, KL: 13.09, recon likelihood: 48.28095245361328\n",
      "Epoch: 90, mask likelihood: 0.16714201867580414, KL: 13.398, recon likelihood: 52.17940139770508\n",
      "Best: 0.15394112467765808, 62.108421325683594, 0.92, epoch: 85\n",
      "Epoch: 91, mask likelihood: 0.15333187580108643, KL: 13.418, recon likelihood: 48.89684295654297\n",
      "Epoch: 92, mask likelihood: 0.14701040089130402, KL: 13.492, recon likelihood: 46.10679244995117\n",
      "Epoch: 93, mask likelihood: 0.15060210227966309, KL: 13.297, recon likelihood: 48.14384841918945\n",
      "Epoch: 94, mask likelihood: 0.1457863450050354, KL: 13.12, recon likelihood: 48.413612365722656\n",
      "Epoch: 95, mask likelihood: 0.15496762096881866, KL: 13.264, recon likelihood: 49.885498046875\n",
      "Epoch: 96, mask likelihood: 0.1562579721212387, KL: 13.456, recon likelihood: 48.51763153076172\n",
      "Epoch: 97, mask likelihood: 0.1474754810333252, KL: 13.303, recon likelihood: 44.57493209838867\n",
      "Epoch: 98, mask likelihood: 0.1573369801044464, KL: 13.274, recon likelihood: 48.97713851928711\n",
      "Epoch: 99, mask likelihood: 0.1396394520998001, KL: 13.232, recon likelihood: 49.21422576904297\n",
      "Epoch: 100, mask likelihood: 0.1598006635904312, KL: 13.196, recon likelihood: 48.22589111328125\n",
      "Best: 0.1396394520998001, 62.586307525634766, 0.94, epoch: 99\n"
     ]
    },
    {
     "data": {
      "image/png": "[encoded data removed]",
      "text/plain": [
       "<Figure size 1080x1080 with 4 Axes>"
      ]
     },
     "metadata": {
      "needs_background": "light"
     },
     "output_type": "display_data"
    },
    {
     "name": "stdout",
     "output_type": "stream",
     "text": [
      "Epoch: 101, mask likelihood: 0.14910772442817688, KL: 13.206, recon likelihood: 50.45639419555664\n",
      "Epoch: 102, mask likelihood: 0.151067852973938, KL: 12.993, recon likelihood: 54.00534439086914\n",
      "Epoch: 103, mask likelihood: 0.16541257500648499, KL: 12.95, recon likelihood: 48.2836799621582\n",
      "Epoch: 104, mask likelihood: 0.15738113224506378, KL: 12.989, recon likelihood: 49.28780746459961\n",
      "Epoch: 105, mask likelihood: 0.14829133450984955, KL: 13.412, recon likelihood: 49.02154541015625\n",
      "Epoch: 106, mask likelihood: 0.15862856805324554, KL: 13.524, recon likelihood: 49.8229866027832\n",
      "Epoch: 107, mask likelihood: 0.14227275550365448, KL: 13.6, recon likelihood: 46.295310974121094\n",
      "Epoch: 108, mask likelihood: 0.1552969068288803, KL: 13.478, recon likelihood: 48.11766815185547\n",
      "Epoch: 109, mask likelihood: 0.1704970896244049, KL: 13.267, recon likelihood: 45.39540100097656\n",
      "Epoch: 110, mask likelihood: 0.14461649954319, KL: 13.185, recon likelihood: 46.175086975097656\n",
      "Best: 0.1396394520998001, 62.586307525634766, 0.94, epoch: 99\n",
      "Epoch: 111, mask likelihood: 0.14872018992900848, KL: 13.186, recon likelihood: 54.53045654296875\n",
      "Epoch: 112, mask likelihood: 0.16315311193466187, KL: 13.446, recon likelihood: 45.96890640258789\n",
      "Epoch: 113, mask likelihood: 0.15549321472644806, KL: 13.316, recon likelihood: 47.82722854614258\n",
      "Epoch: 114, mask likelihood: 0.14193721115589142, KL: 13.524, recon likelihood: 55.13779830932617\n",
      "Epoch: 115, mask likelihood: 0.14882270991802216, KL: 13.526, recon likelihood: 44.91929626464844\n",
      "Epoch: 116, mask likelihood: 0.15789005160331726, KL: 13.48, recon likelihood: 50.34688186645508\n",
      "Epoch: 117, mask likelihood: 0.13518843054771423, KL: 13.41, recon likelihood: 46.376712799072266\n",
      "Epoch: 118, mask likelihood: 0.1402399092912674, KL: 13.293, recon likelihood: 46.45012664794922\n",
      "Epoch: 119, mask likelihood: 0.16823628544807434, KL: 13.011, recon likelihood: 49.32661056518555\n",
      "Epoch: 120, mask likelihood: 0.14011360704898834, KL: 13.007, recon likelihood: 51.94117736816406\n",
      "Best: 0.13518843054771423, 59.92206954956055, 0.96, epoch: 117\n"
     ]
    },
    {
     "data": {
      "image/png": "[encoded data removed]",
      "text/plain": [
       "<Figure size 1080x1080 with 4 Axes>"
      ]
     },
     "metadata": {
      "needs_background": "light"
     },
     "output_type": "display_data"
    },
    {
     "name": "stdout",
     "output_type": "stream",
     "text": [
      "Epoch: 121, mask likelihood: 0.12872321903705597, KL: 13.369, recon likelihood: 47.01973342895508\n",
      "Epoch: 122, mask likelihood: 0.1539854258298874, KL: 13.502, recon likelihood: 46.815956115722656\n",
      "Epoch: 123, mask likelihood: 0.1523691564798355, KL: 13.533, recon likelihood: 45.48868179321289\n",
      "Epoch: 124, mask likelihood: 0.15699517726898193, KL: 13.406, recon likelihood: 45.7131233215332\n",
      "Epoch: 125, mask likelihood: 0.17333075404167175, KL: 13.668, recon likelihood: 46.61655807495117\n",
      "Epoch: 126, mask likelihood: 0.16530506312847137, KL: 13.572, recon likelihood: 45.4352912902832\n",
      "Epoch: 127, mask likelihood: 0.14312423765659332, KL: 13.386, recon likelihood: 50.73060989379883\n",
      "Epoch: 128, mask likelihood: 0.15302735567092896, KL: 13.196, recon likelihood: 45.889041900634766\n",
      "Epoch: 129, mask likelihood: 0.15178368985652924, KL: 12.957, recon likelihood: 45.965492248535156\n",
      "Epoch: 130, mask likelihood: 0.15342959761619568, KL: 13.346, recon likelihood: 48.03339767456055\n",
      "Best: 0.12872321903705597, 60.517452239990234, 0.94, epoch: 121\n",
      "Epoch: 131, mask likelihood: 0.16610628366470337, KL: 13.515, recon likelihood: 45.89302444458008\n",
      "Epoch: 132, mask likelihood: 0.1618383377790451, KL: 13.627, recon likelihood: 46.35490798950195\n",
      "Epoch: 133, mask likelihood: 0.14431577920913696, KL: 13.56, recon likelihood: 47.24747085571289\n",
      "Epoch: 134, mask likelihood: 0.168910950422287, KL: 13.18, recon likelihood: 46.928768157958984\n",
      "Epoch: 135, mask likelihood: 0.15879668295383453, KL: 13.175, recon likelihood: 46.19483184814453\n",
      "Epoch: 136, mask likelihood: 0.13945825397968292, KL: 13.378, recon likelihood: 50.112552642822266\n",
      "Epoch: 137, mask likelihood: 0.15904274582862854, KL: 13.736, recon likelihood: 45.13484191894531\n",
      "Epoch: 138, mask likelihood: 0.16237494349479675, KL: 13.44, recon likelihood: 43.58838653564453\n",
      "Epoch: 139, mask likelihood: 0.1431824266910553, KL: 13.41, recon likelihood: 46.75413131713867\n",
      "Epoch: 140, mask likelihood: 0.15691788494586945, KL: 13.462, recon likelihood: 44.04612350463867\n",
      "Best: 0.12872321903705597, 60.517452239990234, 0.94, epoch: 121\n"
     ]
    },
    {
     "data": {
      "image/png": "[encoded data removed]",
      "text/plain": [
       "<Figure size 1080x1080 with 4 Axes>"
      ]
     },
     "metadata": {
      "needs_background": "light"
     },
     "output_type": "display_data"
    },
    {
     "name": "stdout",
     "output_type": "stream",
     "text": [
      "Epoch: 141, mask likelihood: 0.1748339831829071, KL: 13.416, recon likelihood: 42.33430099487305\n",
      "Epoch: 142, mask likelihood: 0.15039823949337006, KL: 13.67, recon likelihood: 43.82861328125\n",
      "Epoch: 143, mask likelihood: 0.15787334740161896, KL: 13.667, recon likelihood: 42.782470703125\n",
      "Epoch: 144, mask likelihood: 0.16059237718582153, KL: 13.525, recon likelihood: 46.11491012573242\n",
      "Epoch: 145, mask likelihood: 0.15529204905033112, KL: 13.131, recon likelihood: 43.75605392456055\n",
      "Epoch: 146, mask likelihood: 0.14156703650951385, KL: 13.036, recon likelihood: 44.565555572509766\n",
      "Epoch: 147, mask likelihood: 0.15715469419956207, KL: 13.224, recon likelihood: 49.75961685180664\n",
      "Epoch: 148, mask likelihood: 0.1661377251148224, KL: 13.409, recon likelihood: 42.43047332763672\n",
      "Epoch: 149, mask likelihood: 0.16729682683944702, KL: 13.69, recon likelihood: 44.35191345214844\n",
      "Epoch: 150, mask likelihood: 0.15362772345542908, KL: 13.706, recon likelihood: 45.82917404174805\n",
      "Best: 0.12872321903705597, 60.517452239990234, 0.94, epoch: 121\n",
      "Epoch: 151, mask likelihood: 0.1279415339231491, KL: 13.528, recon likelihood: 44.42099380493164\n",
      "Epoch: 152, mask likelihood: 0.15752598643302917, KL: 13.576, recon likelihood: 43.128868103027344\n",
      "Epoch: 153, mask likelihood: 0.17858393490314484, KL: 13.295, recon likelihood: 46.733577728271484\n",
      "Epoch: 154, mask likelihood: 0.1507277488708496, KL: 13.326, recon likelihood: 46.97883605957031\n",
      "Epoch: 155, mask likelihood: 0.15228500962257385, KL: 13.495, recon likelihood: 41.80975341796875\n",
      "Epoch: 156, mask likelihood: 0.15898644924163818, KL: 13.577, recon likelihood: 46.61147689819336\n",
      "Epoch: 157, mask likelihood: 0.16739170253276825, KL: 13.778, recon likelihood: 42.53077697753906\n",
      "Epoch: 158, mask likelihood: 0.17658008635044098, KL: 13.562, recon likelihood: 43.899627685546875\n",
      "Epoch: 159, mask likelihood: 0.1712856888771057, KL: 13.499, recon likelihood: 49.23516845703125\n",
      "Epoch: 160, mask likelihood: 0.17048564553260803, KL: 13.439, recon likelihood: 45.98150634765625\n",
      "Best: 0.1279415339231491, 58.076812744140625, 0.96, epoch: 151\n"
     ]
    },
    {
     "data": {
      "image/png": "[encoded data removed]",
      "text/plain": [
       "<Figure size 1080x1080 with 4 Axes>"
      ]
     },
     "metadata": {
      "needs_background": "light"
     },
     "output_type": "display_data"
    },
    {
     "name": "stdout",
     "output_type": "stream",
     "text": [
      "Epoch: 161, mask likelihood: 0.13835011422634125, KL: 13.521, recon likelihood: 41.92876052856445\n",
      "Epoch: 162, mask likelihood: 0.14650858938694, KL: 13.509, recon likelihood: 45.78706359863281\n",
      "Epoch: 163, mask likelihood: 0.17311200499534607, KL: 13.535, recon likelihood: 44.7289924621582\n",
      "Epoch: 164, mask likelihood: 0.17816117405891418, KL: 13.487, recon likelihood: 42.177146911621094\n",
      "Epoch: 165, mask likelihood: 0.1377933770418167, KL: 13.275, recon likelihood: 46.83948516845703\n",
      "Epoch: 166, mask likelihood: 0.15209071338176727, KL: 13.227, recon likelihood: 45.63532257080078\n",
      "Epoch: 167, mask likelihood: 0.1817326694726944, KL: 13.405, recon likelihood: 41.14200973510742\n",
      "Epoch: 168, mask likelihood: 0.15926438570022583, KL: 13.65, recon likelihood: 41.85141372680664\n",
      "Epoch: 169, mask likelihood: 0.1444176286458969, KL: 13.543, recon likelihood: 47.35774230957031\n",
      "Epoch: 170, mask likelihood: 0.1436435878276825, KL: 13.547, recon likelihood: 42.72079849243164\n",
      "Best: 0.1279415339231491, 58.076812744140625, 0.96, epoch: 151\n",
      "Epoch: 171, mask likelihood: 0.1501609981060028, KL: 13.683, recon likelihood: 43.27989196777344\n",
      "Epoch: 172, mask likelihood: 0.18451154232025146, KL: 13.599, recon likelihood: 48.31547927856445\n",
      "Epoch: 173, mask likelihood: 0.1700461506843567, KL: 13.414, recon likelihood: 42.263389587402344\n",
      "Epoch: 174, mask likelihood: 0.15899814665317535, KL: 13.339, recon likelihood: 44.213768005371094\n",
      "Epoch: 175, mask likelihood: 0.15896759927272797, KL: 13.411, recon likelihood: 42.67930221557617\n",
      "Epoch: 176, mask likelihood: 0.20222815871238708, KL: 13.47, recon likelihood: 45.457908630371094\n",
      "Epoch: 177, mask likelihood: 0.18767665326595306, KL: 13.766, recon likelihood: 41.43319320678711\n",
      "Epoch: 178, mask likelihood: 0.1809319257736206, KL: 13.771, recon likelihood: 40.735984802246094\n",
      "Epoch: 179, mask likelihood: 0.20792289078235626, KL: 13.638, recon likelihood: 40.86899185180664\n",
      "Epoch: 180, mask likelihood: 0.15140195190906525, KL: 13.407, recon likelihood: 44.353729248046875\n",
      "Best: 0.1279415339231491, 58.076812744140625, 0.96, epoch: 151\n"
     ]
    },
    {
     "data": {
      "image/png": "[encoded data removed]",
      "text/plain": [
       "<Figure size 1080x1080 with 4 Axes>"
      ]
     },
     "metadata": {
      "needs_background": "light"
     },
     "output_type": "display_data"
    },
    {
     "name": "stdout",
     "output_type": "stream",
     "text": [
      "Epoch: 181, mask likelihood: 0.14262263476848602, KL: 13.558, recon likelihood: 41.39099884033203\n",
      "Epoch: 182, mask likelihood: 0.177824467420578, KL: 13.543, recon likelihood: 44.73058319091797\n",
      "Epoch: 183, mask likelihood: 0.1647849828004837, KL: 13.66, recon likelihood: 44.85114288330078\n",
      "Epoch: 184, mask likelihood: 0.14852243661880493, KL: 13.503, recon likelihood: 40.261817932128906\n",
      "Epoch: 185, mask likelihood: 0.21914729475975037, KL: 13.522, recon likelihood: 43.69148254394531\n",
      "Epoch: 186, mask likelihood: 0.19323240220546722, KL: 13.493, recon likelihood: 42.12802505493164\n",
      "Epoch: 187, mask likelihood: 0.15410715341567993, KL: 13.487, recon likelihood: 44.96535873413086\n",
      "Epoch: 188, mask likelihood: 0.20370478928089142, KL: 13.614, recon likelihood: 39.977439880371094\n",
      "Epoch: 189, mask likelihood: 0.16643445193767548, KL: 13.706, recon likelihood: 39.94871139526367\n",
      "Epoch: 190, mask likelihood: 0.1430220752954483, KL: 13.766, recon likelihood: 42.65079879760742\n",
      "Best: 0.1279415339231491, 58.076812744140625, 0.96, epoch: 151\n",
      "Epoch: 191, mask likelihood: 0.183775395154953, KL: 13.627, recon likelihood: 39.393611907958984\n",
      "Epoch: 192, mask likelihood: 0.2275858074426651, KL: 13.597, recon likelihood: 41.96847152709961\n",
      "Epoch: 193, mask likelihood: 0.1697685420513153, KL: 13.573, recon likelihood: 41.58794021606445\n",
      "Epoch: 194, mask likelihood: 0.12772542238235474, KL: 13.61, recon likelihood: 41.508636474609375\n",
      "Epoch: 195, mask likelihood: 0.1785241663455963, KL: 13.632, recon likelihood: 41.62682342529297\n",
      "Epoch: 196, mask likelihood: 0.2150164544582367, KL: 13.696, recon likelihood: 38.59062576293945\n",
      "Epoch: 197, mask likelihood: 0.18296633660793304, KL: 13.68, recon likelihood: 45.66968536376953\n",
      "Epoch: 198, mask likelihood: 0.17335200309753418, KL: 13.294, recon likelihood: 41.60496139526367\n",
      "Epoch: 199, mask likelihood: 0.1979106068611145, KL: 13.534, recon likelihood: 43.16796875\n",
      "Epoch: 200, mask likelihood: 0.1815136820077896, KL: 13.551, recon likelihood: 40.443416595458984\n",
      "Best: 0.12772542238235474, 55.24616241455078, 0.94, epoch: 194\n"
     ]
    },
    {
     "data": {
      "image/png": "[encoded data removed]",
      "text/plain": [
       "<Figure size 1080x1080 with 4 Axes>"
      ]
     },
     "metadata": {
      "needs_background": "light"
     },
     "output_type": "display_data"
    },
    {
     "name": "stdout",
     "output_type": "stream",
     "text": [
      "Epoch: 201, mask likelihood: 0.16736255586147308, KL: 13.684, recon likelihood: 42.22968673706055\n",
      "Epoch: 202, mask likelihood: 0.17157290875911713, KL: 13.582, recon likelihood: 42.32666778564453\n",
      "Epoch: 203, mask likelihood: 0.1877419650554657, KL: 13.496, recon likelihood: 43.31705093383789\n",
      "Epoch: 204, mask likelihood: 0.1795268952846527, KL: 13.707, recon likelihood: 38.680091857910156\n",
      "Epoch: 205, mask likelihood: 0.1668504923582077, KL: 13.526, recon likelihood: 43.041893005371094\n",
      "Epoch: 206, mask likelihood: 0.1752437949180603, KL: 13.477, recon likelihood: 41.748104095458984\n",
      "Epoch: 207, mask likelihood: 0.19451923668384552, KL: 13.646, recon likelihood: 40.71709060668945\n",
      "Epoch: 208, mask likelihood: 0.19774293899536133, KL: 13.751, recon likelihood: 42.51620101928711\n",
      "Epoch: 209, mask likelihood: 0.18941526114940643, KL: 13.72, recon likelihood: 43.08316421508789\n",
      "Epoch: 210, mask likelihood: 0.1856149286031723, KL: 13.494, recon likelihood: 43.547386169433594\n",
      "Best: 0.12772542238235474, 55.24616241455078, 0.94, epoch: 194\n",
      "Epoch: 211, mask likelihood: 0.1905432641506195, KL: 13.455, recon likelihood: 40.955257415771484\n",
      "Epoch: 212, mask likelihood: 0.209442138671875, KL: 13.591, recon likelihood: 41.70883560180664\n",
      "Epoch: 213, mask likelihood: 0.20088529586791992, KL: 13.739, recon likelihood: 45.427059173583984\n",
      "Epoch: 214, mask likelihood: 0.1811409890651703, KL: 13.795, recon likelihood: 40.34254455566406\n",
      "Epoch: 215, mask likelihood: 0.20727866888046265, KL: 13.64, recon likelihood: 41.95624923706055\n",
      "Epoch: 216, mask likelihood: 0.19880187511444092, KL: 13.658, recon likelihood: 39.290611267089844\n",
      "Epoch: 217, mask likelihood: 0.18243442475795746, KL: 13.659, recon likelihood: 40.956634521484375\n",
      "Epoch: 218, mask likelihood: 0.19154216349124908, KL: 13.847, recon likelihood: 39.8463134765625\n",
      "Epoch: 219, mask likelihood: 0.21654081344604492, KL: 13.882, recon likelihood: 41.10389709472656\n",
      "Epoch: 220, mask likelihood: 0.20220176875591278, KL: 13.674, recon likelihood: 37.94483947753906\n",
      "Best: 0.12772542238235474, 55.24616241455078, 0.94, epoch: 194\n"
     ]
    },
    {
     "data": {
      "image/png": "[encoded data removed]",
      "text/plain": [
       "<Figure size 1080x1080 with 4 Axes>"
      ]
     },
     "metadata": {
      "needs_background": "light"
     },
     "output_type": "display_data"
    },
    {
     "name": "stdout",
     "output_type": "stream",
     "text": [
      "Epoch: 221, mask likelihood: 0.1886628121137619, KL: 13.513, recon likelihood: 43.242469787597656\n",
      "Epoch: 222, mask likelihood: 0.19111183285713196, KL: 13.24, recon likelihood: 41.50917434692383\n",
      "Epoch: 223, mask likelihood: 0.18899528682231903, KL: 13.454, recon likelihood: 38.49443435668945\n",
      "Epoch: 224, mask likelihood: 0.19773077964782715, KL: 13.75, recon likelihood: 40.11695098876953\n",
      "Epoch: 225, mask likelihood: 0.22165000438690186, KL: 13.595, recon likelihood: 39.459144592285156\n",
      "Epoch: 226, mask likelihood: 0.18048961460590363, KL: 13.632, recon likelihood: 38.95830154418945\n",
      "Epoch: 227, mask likelihood: 0.17300723493099213, KL: 13.669, recon likelihood: 38.62497329711914\n",
      "Epoch: 228, mask likelihood: 0.21354179084300995, KL: 13.721, recon likelihood: 37.99831771850586\n",
      "Epoch: 229, mask likelihood: 0.19468392431735992, KL: 13.774, recon likelihood: 40.40503692626953\n",
      "Epoch: 230, mask likelihood: 0.1979880928993225, KL: 13.682, recon likelihood: 37.33589172363281\n",
      "Best: 0.12772542238235474, 55.24616241455078, 0.94, epoch: 194\n",
      "Epoch: 231, mask likelihood: 0.23332656919956207, KL: 13.606, recon likelihood: 38.407318115234375\n",
      "Epoch: 232, mask likelihood: 0.22455228865146637, KL: 13.537, recon likelihood: 42.98004150390625\n",
      "Epoch: 233, mask likelihood: 0.20156249403953552, KL: 13.626, recon likelihood: 40.394569396972656\n",
      "Epoch: 234, mask likelihood: 0.17791014909744263, KL: 13.834, recon likelihood: 38.21802520751953\n",
      "Epoch: 235, mask likelihood: 0.2011171281337738, KL: 13.729, recon likelihood: 39.31447219848633\n",
      "Epoch: 236, mask likelihood: 0.2222461700439453, KL: 13.609, recon likelihood: 42.18975067138672\n",
      "Epoch: 237, mask likelihood: 0.20364965498447418, KL: 13.576, recon likelihood: 40.216957092285156\n",
      "Epoch: 238, mask likelihood: 0.18369416892528534, KL: 13.807, recon likelihood: 40.36594772338867\n",
      "Epoch: 239, mask likelihood: 0.23247796297073364, KL: 13.763, recon likelihood: 37.81450271606445\n",
      "Epoch: 240, mask likelihood: 0.2050647735595703, KL: 13.691, recon likelihood: 45.36248779296875\n",
      "Best: 0.12772542238235474, 55.24616241455078, 0.94, epoch: 194\n"
     ]
    },
    {
     "data": {
      "image/png": "[encoded data removed]",
      "text/plain": [
       "<Figure size 1080x1080 with 4 Axes>"
      ]
     },
     "metadata": {
      "needs_background": "light"
     },
     "output_type": "display_data"
    },
    {
     "name": "stdout",
     "output_type": "stream",
     "text": [
      "Epoch: 241, mask likelihood: 0.20000314712524414, KL: 13.561, recon likelihood: 41.48236083984375\n",
      "Epoch: 242, mask likelihood: 0.22622811794281006, KL: 13.366, recon likelihood: 37.488834381103516\n",
      "Epoch: 243, mask likelihood: 0.20830081403255463, KL: 13.58, recon likelihood: 41.847869873046875\n",
      "Epoch: 244, mask likelihood: 0.21004526317119598, KL: 13.785, recon likelihood: 38.68156051635742\n",
      "Epoch: 245, mask likelihood: 0.21906539797782898, KL: 13.826, recon likelihood: 36.91593933105469\n",
      "Epoch: 246, mask likelihood: 0.20919577777385712, KL: 13.911, recon likelihood: 39.90190887451172\n",
      "Epoch: 247, mask likelihood: 0.1927378922700882, KL: 13.76, recon likelihood: 42.35951614379883\n",
      "Epoch: 248, mask likelihood: 0.20401963591575623, KL: 13.484, recon likelihood: 39.99517822265625\n",
      "Epoch: 249, mask likelihood: 0.2134401500225067, KL: 13.713, recon likelihood: 39.836708068847656\n"
     ]
    }
   ],
   "source": [
    "import torch as tc\n",
    "\n",
    "best_loss = 1e30\n",
    "best_acc = 0\n",
    "best_lk = 1e30\n",
    "global_step = 0\n",
    "\n",
    "training_losses = []\n",
    "validation_losses = []\n",
    "\n",
    "for epoch in range(EPOCHS):\n",
    "    model.zero_grad()\n",
    "    train_acc = 0\n",
    "    t_epoch_loss = 0\n",
    "\n",
    "    # The trackers for the mean and scale of the inference map\n",
    "    vae_mask = np.zeros((INPUT_SIZE, INPUT_SIZE))\n",
    "    vae_scale = np.zeros((INPUT_SIZE, INPUT_SIZE))\n",
    "\n",
    "    for (x, y) in train_loader:\n",
    "        optimizer.zero_grad()\n",
    "\n",
    "        x = x.type(Tensor).to(device)\n",
    "        y = y.type(Tensor).to(device)\n",
    "\n",
    "        ret_dict = model(x, y)\n",
    "\n",
    "        loss = ret_dict['loss'].mean()\n",
    "        t_epoch_loss += loss.item()\n",
    "\n",
    "        loss.backward()\n",
    "        optimizer.step()\n",
    "\n",
    "        vae_mask += np.squeeze(ret_dict['mean_mask'].cpu().data.numpy())\n",
    "        vae_scale += np.squeeze(ret_dict['mask_scale'].cpu().data.numpy())\n",
    "        train_acc += 1\n",
    "        global_step += 1\n",
    "        \n",
    "    training_losses.append(t_epoch_loss / train_acc)\n",
    "\n",
    "    vae_mask = vae_mask / train_acc\n",
    "    val_mask = tc.from_numpy(vae_mask).type(Tensor).to(device).view(1, 1,\n",
    "                                                                    INPUT_SIZE,\n",
    "                                                                    INPUT_SIZE)\n",
    "    vae_scale = vae_scale / train_acc\n",
    "    val_scale = tc.from_numpy(vae_scale).type(Tensor).to(device).view(1, 1,\n",
    "                                                                    INPUT_SIZE,\n",
    "                                                                    INPUT_SIZE)\n",
    "\n",
    "    val_acc = 0\n",
    "    accuracy_acc = 0\n",
    "    loss_acc = 0\n",
    "    likelihood_acc = 0\n",
    "    kld_acc = 0\n",
    "    recon_acc = 0\n",
    "    with torch.no_grad():\n",
    "        for (x, y) in val_loader:\n",
    "            x = x.type(Tensor).to(device)\n",
    "            y = y.type(Tensor).to(device)\n",
    "\n",
    "            ret_dict = model(x, y,\n",
    "                             provided_mask=val_mask,\n",
    "                             provided_scale=val_scale,\n",
    "                             val=True)\n",
    "\n",
    "            loss_acc += ret_dict['loss'].mean().item()\n",
    "            val_acc += 1\n",
    "            likelihood_acc += ret_dict['mask_ll'].item()\n",
    "            accuracy_acc += ret_dict['acc'].item()\n",
    "            kld_acc += ret_dict['kl'].item()\n",
    "            recon_acc += ret_dict['recon_ll'].item()\n",
    "\n",
    "    loss = loss_acc / val_acc\n",
    "    validation_losses.append(loss)\n",
    "    lk = likelihood_acc / val_acc\n",
    "    acc = round(accuracy_acc / val_acc, 4)\n",
    "    kl = round(kld_acc / val_acc, 3)\n",
    "    rec = recon_acc / val_acc\n",
    "\n",
    "    print(f'Epoch: {epoch}, mask likelihood: {lk}, KL: {kl}, recon likelihood: {rec}')\n",
    "    \n",
    "    if lk < best_lk:\n",
    "        best_loss = loss\n",
    "        best_lk = lk\n",
    "        best_acc = acc\n",
    "        best_recon = recon_acc\n",
    "        best_epoch = epoch\n",
    "        torch.save(model, f\"vae.pth\")\n",
    "        np.save(f'vae_mask.npy', vae_mask)\n",
    "        np.save(f'vae_scale.npy', vae_scale)\n",
    "    \n",
    "    if epoch % 10 == 0:\n",
    "        print(f'Best: {best_lk}, {best_loss}, {best_acc}, epoch: {best_epoch}')\n",
    "        \n",
    "    # VIZUALISE AS THE TRAINING GOES ON\n",
    "    if epoch % 20 == 0:\n",
    "\n",
    "        subtitle_fontsize = 30\n",
    "\n",
    "        imgs = x.cpu().data.numpy()\n",
    "\n",
    "        question_mark = ret_dict['mean_mask'].cpu().data.numpy()\n",
    "\n",
    "        b, c, h, w = imgs.shape\n",
    "        imgs = np.reshape(imgs, [-1, h, w])\n",
    "        question_mark = np.reshape(question_mark, [h, w])\n",
    "        mask_scale = np.reshape(vae_mask, [1, h, w])\n",
    "        \n",
    "        fig = plt.figure(figsize=(15., 15.))\n",
    "        grid = ImageGrid(fig, 111, \n",
    "                         nrows_ncols=(1, 2),\n",
    "                         axes_pad=0.05,\n",
    "                         share_all=True\n",
    "                         )\n",
    "\n",
    "        grid[0].get_yaxis().set_ticks([])\n",
    "        grid[0].get_xaxis().set_ticks([])\n",
    "\n",
    "        # The substrate\n",
    "        grid[0].imshow(substrate)\n",
    "        \n",
    "        # The recovered substrate\n",
    "        grid[1].imshow(question_mark)\n",
    "        \n",
    "        plt.show()"
   ]
  },
  {
   "cell_type": "code",
   "execution_count": 26,
   "metadata": {
    "scrolled": true
   },
   "outputs": [
    {
     "name": "stdout",
     "output_type": "stream",
     "text": [
      "0.85, 49.87931823730469\n",
      "0.8548275862068966, 50.466522216796875\n",
      "0.8596551724137931, 50.179046630859375\n",
      "0.8644827586206897, 49.190460205078125\n",
      "0.8693103448275862, 49.245296478271484\n",
      "0.8741379310344828, 50.10844421386719\n",
      "0.8789655172413793, 51.147396087646484\n",
      "0.8837931034482759, 49.61522674560547\n",
      "0.8886206896551724, 50.610504150390625\n",
      "0.893448275862069, 50.319454193115234\n",
      "0.8982758620689655, 49.101951599121094\n",
      "0.9031034482758621, 50.06876754760742\n",
      "0.9079310344827586, 50.10262680053711\n",
      "0.9127586206896552, 49.271541595458984\n",
      "0.9175862068965517, 49.32302474975586\n",
      "0.9224137931034483, 49.963600158691406\n",
      "0.9272413793103448, 49.997989654541016\n",
      "0.9320689655172414, 49.51327896118164\n",
      "0.9368965517241379, 49.93131637573242\n",
      "0.9417241379310345, 49.76252365112305\n",
      "0.946551724137931, 50.81172180175781\n",
      "0.9513793103448276, 50.14139938354492\n",
      "0.9562068965517241, 50.10524368286133\n",
      "0.9610344827586207, 49.805049896240234\n",
      "0.9658620689655172, 50.06552505493164\n",
      "0.9706896551724138, 50.08280944824219\n",
      "0.9755172413793103, 51.53150939941406\n",
      "0.9803448275862069, 49.93389129638672\n",
      "0.9851724137931035, 50.222232818603516\n",
      "0.99, 50.703948974609375\n"
     ]
    }
   ],
   "source": [
    "model = torch.load(\"vae.pth\")\n",
    "model.eval()\n",
    "vae_mask = np.load('vae_mask.npy')\n",
    "\n",
    "best_threshold = 0\n",
    "best_loss = 1e30\n",
    "\n",
    "threshold_range = np.linspace(0.85, 0.99, num=30)\n",
    "for thresh in threshold_range:\n",
    "    with torch.no_grad():\n",
    "        counter = 0\n",
    "        loss = 0\n",
    "        for (x, y) in cal_loader:\n",
    "            x = x.type(Tensor).to(device)\n",
    "            y = y.type(Tensor).to(device)\n",
    "            ret_dict = model(x, y,\n",
    "                             calibrate=True,\n",
    "                             t=float(thresh))\n",
    "\n",
    "            loss += ret_dict['loss']\n",
    "            counter += 1\n",
    "        loss = loss / counter\n",
    "        print(f'{thresh}, {loss}')\n",
    "        if loss < best_loss:\n",
    "            best_loss = loss\n",
    "            best_threshold = thresh\n",
    "    \n",
    "# FIND THE BEST THRESHOLD\n",
    "t = np.quantile(vae_mask, best_threshold)"
   ]
  },
  {
   "cell_type": "code",
   "execution_count": 13,
   "metadata": {},
   "outputs": [
    {
     "data": {
      "text/plain": [
       "(32, 32)"
      ]
     },
     "execution_count": 13,
     "metadata": {},
     "output_type": "execute_result"
    }
   ],
   "source": [
    "# RUN SVR-LSM APPROXIMATION FOR DEBUGGING PURPOSES\n",
    "from sklearn import svm\n",
    "\n",
    "# We're doing binary classification\n",
    "continuous = False\n",
    "\n",
    "svm_data = np.reshape(train_data, [train_data.shape[0], train_data.shape[2]**2])\n",
    "\n",
    "svr_labels = train_labels\n",
    "if continuous:\n",
    "    svr_labels = (train_labels - train_labels.mean())\n",
    "    svr_labels = svr_labels / svr_labels.std()\n",
    "svm_data = svm_data / (np.linalg.norm(svm_data, axis=-1, keepdims=True) + 1e-5)\n",
    "\n",
    "if continuous:\n",
    "    svm = svm.SVR(kernel='rbf', C=0.8)\n",
    "else:\n",
    "    svm = svm.SVC(kernel='rbf')\n",
    "svm.fit(svm_data, svr_labels)\n",
    "\n",
    "alphas = svm.dual_coef_\n",
    "\n",
    "backprojection = alphas * np.transpose(svm.support_vectors_)\n",
    "backprojection = np.sum(backprojection, axis=1)\n",
    "svm_preds = np.reshape(backprojection, [train_data.shape[2], train_data.shape[2]])\n",
    "svm_preds.shape"
   ]
  },
  {
   "cell_type": "code",
   "execution_count": 14,
   "metadata": {},
   "outputs": [],
   "source": [
    "# RUN VLSM APPROXIMATION FOR DEBUGGING PURPOSES\n",
    "\n",
    "idxs_p = np.where(train_labels > 0)\n",
    "idxs_n = np.where(train_labels == 0)\n",
    "img_size = 32\n",
    "\n",
    "fisher_preds = np.zeros((img_size, img_size))\n",
    "for i in range(img_size):\n",
    "    for j in range(img_size):\n",
    "        index_vox = train_data[:, 0, i, j]\n",
    "\n",
    "        table = np.zeros((2, 2))\n",
    "        table[0, 0] = np.sum(index_vox[idxs_n] == 0)\n",
    "        table[0, 1] = np.sum(index_vox[idxs_n] > 0)\n",
    "        table[1, 0] = np.sum(index_vox[idxs_p] == 0)\n",
    "        table[1, 1] = np.sum(index_vox[idxs_p] > 0)\n",
    "\n",
    "        p_value = scipy.stats.fisher_exact(table, 'greater')[-1]\n",
    "        fisher_preds[i, j] = p_value\n",
    "\n",
    "fisher_preds = - np.log(fisher_preds)\n",
    "univar_preds = fisher_preds"
   ]
  },
  {
   "cell_type": "code",
   "execution_count": 15,
   "metadata": {},
   "outputs": [],
   "source": [
    "def dice(im1, im2):\n",
    "    im1 = np.asarray(im1).astype(np.bool)\n",
    "    im2 = np.asarray(im2).astype(np.bool)\n",
    "\n",
    "    if im1.shape != im2.shape:\n",
    "        raise ValueError(\"Shape mismatch: im1 and im2 must have the same shape.\")\n",
    "\n",
    "    intersection = np.logical_and(im1, im2)\n",
    "\n",
    "    return 2. * intersection.sum() / (im1.sum() + im2.sum())"
   ]
  },
  {
   "cell_type": "code",
   "execution_count": 27,
   "metadata": {},
   "outputs": [
    {
     "data": {
      "text/plain": [
       "0.8982758620689655"
      ]
     },
     "execution_count": 27,
     "metadata": {},
     "output_type": "execute_result"
    }
   ],
   "source": [
    "best_threshold"
   ]
  },
  {
   "cell_type": "code",
   "execution_count": 28,
   "metadata": {},
   "outputs": [
    {
     "data": {
      "text/plain": [
       "{'VDVAE-LDM': {'dice': [0.72, 0.8982758620689655],\n",
       "  'hausdorff': [2.24, 0.9],\n",
       "  'asd': [0.7, 0.9]},\n",
       " 'VLSM': {'dice': [0.59, 0.9], 'hausdorff': [3.61, 0.9], 'asd': [0.81, 0.9]},\n",
       " 'SVR-LSM': {'dice': [0.68, 0.9],\n",
       "  'hausdorff': [2.24, 0.9],\n",
       "  'asd': [0.75, 0.9]}}"
      ]
     },
     "execution_count": 28,
     "metadata": {},
     "output_type": "execute_result"
    }
   ],
   "source": [
    "from monai.metrics import compute_hausdorff_distance, compute_average_surface_distance\n",
    "\n",
    "'''\n",
    "THIS IS JUST FOR DEBUGGING PURPOSES\n",
    "FOR PROPER EVALUATION YOU'LL HAVE TO GET P-VALUES FOR VLSM AND SVR-LSM \n",
    "AND THEN USE FWER/FDR\n",
    "'''\n",
    "\n",
    "results = {'VDVAE-LDM': vae_mask, 'VLSM': univar_preds, 'SVR-LSM': svm_preds}\n",
    "\n",
    "keys = ['VDVAE-LDM', 'VLSM', 'SVR-LSM']\n",
    "thresholds = {}\n",
    "for k in keys:\n",
    "    thresholds[k] = {'dice': [0, 0], 'hausdorff': [1e10, 0], 'asd': [1e10, 0],\n",
    "                    }\n",
    "\n",
    "for k in results:\n",
    "    results[k] = results[k] - results[k].min()\n",
    "    results[k] = results[k] / (results[k].max())\n",
    "\n",
    "# threshold_range = np.linspace(0.8, 0.98, num=20)\n",
    "threshold_range = [0.9]\n",
    "\n",
    "for thresh in threshold_range:\n",
    "    for k in thresholds:\n",
    "        if k == 'VDVAE-LDM':\n",
    "            t = np.quantile(results[k], best_threshold)\n",
    "        else:\n",
    "            t = np.quantile(results[k], thresh)\n",
    "        bin_res = results[k] > t\n",
    "\n",
    "        preds = np.expand_dims(np.expand_dims(results[k], axis=0), axis=0)\n",
    "        bin_preds = np.expand_dims(np.expand_dims(bin_res, axis=0), axis=0)\n",
    "        monai_gt = np.expand_dims(np.expand_dims(substrate, axis=0), axis=0)\n",
    "        \n",
    "        dice_s = dice(bin_res, substrate)\n",
    "            \n",
    "        if dice_s > thresholds[k]['dice'][0]:\n",
    "            thresholds[k]['dice'][0] = round(dice_s, 2)\n",
    "            if k == 'VDVAE-LDM':\n",
    "                thresholds[k]['dice'][1] = best_threshold\n",
    "            else:\n",
    "                thresholds[k]['dice'][1] = thresh\n",
    "            \n",
    "            haus = compute_hausdorff_distance(bin_preds, monai_gt).numpy()[0][0]\n",
    "            asd = compute_average_surface_distance(bin_preds, monai_gt,\n",
    "                                                   symmetric=False).numpy()[0][0]\n",
    "            \n",
    "            thresholds[k]['hausdorff'][0] = round(haus, 2)\n",
    "            thresholds[k]['hausdorff'][1] = thresh\n",
    "            \n",
    "            thresholds[k]['asd'][0] = round(asd, 2)\n",
    "            thresholds[k]['asd'][1] = thresh\n",
    "            \n",
    "            \n",
    "thresholds"
   ]
  },
  {
   "cell_type": "code",
   "execution_count": 29,
   "metadata": {},
   "outputs": [
    {
     "data": {
      "text/plain": [
       "<matplotlib.image.AxesImage at 0x7f3c97d225f8>"
      ]
     },
     "execution_count": 29,
     "metadata": {},
     "output_type": "execute_result"
    },
    {
     "data": {
      "image/png": "[encoded data removed]",
      "text/plain": [
       "<Figure size 1080x1080 with 8 Axes>"
      ]
     },
     "metadata": {
      "needs_background": "light"
     },
     "output_type": "display_data"
    }
   ],
   "source": [
    "fig = plt.figure(figsize=(15., 15.))\n",
    "grid = ImageGrid(fig, 111, \n",
    "                 nrows_ncols=(1, 4),\n",
    "                 axes_pad=0.05,\n",
    "                 share_all=True\n",
    "                 )\n",
    "\n",
    "grid[0].imshow(substrate)\n",
    "grid[1].imshow(vae_mask)\n",
    "grid[2].imshow(univar_preds)\n",
    "grid[3].imshow(svm_preds)"
   ]
  },
  {
   "cell_type": "code",
   "execution_count": null,
   "metadata": {},
   "outputs": [],
   "source": []
  }
 ],
 "metadata": {
  "kernelspec": {
   "display_name": "Python 3",
   "language": "python",
   "name": "python3"
  },
  "language_info": {
   "codemirror_mode": {
    "name": "ipython",
    "version": 3
   },
   "file_extension": ".py",
   "mimetype": "text/x-python",
   "name": "python",
   "nbconvert_exporter": "python",
   "pygments_lexer": "ipython3",
   "version": "3.7.3"
  }
 },
 "nbformat": 4,
 "nbformat_minor": 2
}
